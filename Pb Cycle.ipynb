{
 "cells": [
  {
   "cell_type": "code",
   "execution_count": 1,
   "id": "abea04c7-d584-41be-86dc-fe53c861e438",
   "metadata": {},
   "outputs": [],
   "source": [
    "#Import Packages\n",
    "import pandas as pd\n",
    "import numpy as np\n",
    "import matplotlib.pyplot as plt\n",
    "from ipywidgets import widgets\n",
    "\n",
    "%matplotlib ipympl"
   ]
  },
  {
   "cell_type": "markdown",
   "id": "e37cf5c6-e9ae-4573-8102-06e559fe68f1",
   "metadata": {},
   "source": [
    "$$ n(t)=\\frac{a}{k}-\\left[\\frac{a}{k}-n_0\\right] e^{-kt} $$"
   ]
  },
  {
   "cell_type": "code",
   "execution_count": 2,
   "id": "dec1cb9e-f958-4853-b981-591499792f09",
   "metadata": {},
   "outputs": [],
   "source": [
    "dfA = pd.read_excel('Lead Data Rabinowitz.xlsx',sheet_name='Subject A',engine=\"openpyxl\")\n",
    "dfB = pd.read_excel('Lead Data Rabinowitz.xlsx',sheet_name='Subject B',engine=\"openpyxl\")"
   ]
  },
  {
   "cell_type": "code",
   "execution_count": 3,
   "id": "827437da-7e2f-49c1-b6c1-75f22c147598",
   "metadata": {},
   "outputs": [
    {
     "data": {
      "application/vnd.jupyter.widget-view+json": {
       "model_id": "dcff59693e564b5197c3ae46b31b1206",
       "version_major": 2,
       "version_minor": 0
      },
      "text/plain": [
       "Canvas(toolbar=Toolbar(toolitems=[('Home', 'Reset original view', 'home', 'home'), ('Back', 'Back to previous …"
      ]
     },
     "metadata": {},
     "output_type": "display_data"
    },
    {
     "data": {
      "text/plain": [
       "[<matplotlib.lines.Line2D at 0x13206b700>]"
      ]
     },
     "execution_count": 3,
     "metadata": {},
     "output_type": "execute_result"
    }
   ],
   "source": [
    "plt.plot(dfA['Time'],dfA['Lead'],'x')\n",
    "plt.plot(dfB['Time'],dfB['Lead'],'+')"
   ]
  },
  {
   "cell_type": "code",
   "execution_count": 4,
   "id": "a51cad0b-6e7f-43e9-b3a5-5ab1f02a5289",
   "metadata": {},
   "outputs": [
    {
     "data": {
      "text/plain": [
       "[<matplotlib.lines.Line2D at 0x1321d38e0>]"
      ]
     },
     "execution_count": 4,
     "metadata": {},
     "output_type": "execute_result"
    }
   ],
   "source": [
    "maxtime=400\n",
    "tracerend=104\n",
    "\n",
    "pb=np.zeros(maxtime)\n",
    "a=0.0026\n",
    "n0=0\n",
    "k=0.035\n",
    "\n",
    "for time in range(0,tracerend):\n",
    "    pb[time]=(a/k)-((a/k)-n0)*np.exp(-k*time)\n",
    "\n",
    "a=0\n",
    "n0=pb[tracerend-1]\n",
    "for time in range(0,maxtime-tracerend):\n",
    "    pb[time+tracerend]=(a/k)-((a/k)-n0)*np.exp(-k*time)\n",
    "    \n",
    "plt.plot(range(0,maxtime),pb)\n"
   ]
  },
  {
   "cell_type": "code",
   "execution_count": 5,
   "id": "70285575-7681-4387-8b35-35394dde6685",
   "metadata": {},
   "outputs": [
    {
     "data": {
      "text/plain": [
       "[<matplotlib.lines.Line2D at 0x1321c3a00>]"
      ]
     },
     "execution_count": 5,
     "metadata": {},
     "output_type": "execute_result"
    }
   ],
   "source": [
    "maxtime=210\n",
    "tracerend=124\n",
    "\n",
    "pb=np.zeros(maxtime)\n",
    "a=0.0026\n",
    "a=0.0016\n",
    "n0=0\n",
    "k=0.035\n",
    "\n",
    "for time in range(0,tracerend):\n",
    "    pb[time]=(a/k)-((a/k)-n0)*np.exp(-k*time)\n",
    "\n",
    "a=0\n",
    "n0=pb[tracerend-1]\n",
    "for time in range(0,maxtime-tracerend):\n",
    "    pb[time+tracerend]=(a/k)-((a/k)-n0)*np.exp(-k*time)\n",
    "    \n",
    "plt.plot(range(0,maxtime),pb)"
   ]
  },
  {
   "cell_type": "code",
   "execution_count": 6,
   "id": "605eba48-0978-42ca-83ca-51b928df2fa3",
   "metadata": {
    "collapsed": true,
    "jupyter": {
     "outputs_hidden": true,
     "source_hidden": true
    },
    "tags": []
   },
   "outputs": [
    {
     "data": {
      "application/vnd.jupyter.widget-view+json": {
       "model_id": "d6ce38d3f90b48009f352c0c39c070cb",
       "version_major": 2,
       "version_minor": 0
      },
      "text/plain": [
       "Canvas(toolbar=Toolbar(toolitems=[('Home', 'Reset original view', 'home', 'home'), ('Back', 'Back to previous …"
      ]
     },
     "metadata": {},
     "output_type": "display_data"
    },
    {
     "data": {
      "text/plain": [
       "[<matplotlib.lines.Line2D at 0x11066a820>]"
      ]
     },
     "execution_count": 6,
     "metadata": {},
     "output_type": "execute_result"
    }
   ],
   "source": [
    "# Set Variables\n",
    "\n",
    "#Runtime\n",
    "tmax=400\n",
    "\n",
    "#Time Series\n",
    "t=list(range(tmax))\n",
    "\n",
    "\n",
    "#Masses\n",
    "MPbblood=np.zeros(tmax)\n",
    "MPbbone=np.zeros(tmax)\n",
    "MPbblood[0]=0.001\n",
    "MPbbone[0]=0\n",
    "\n",
    "#Input Fluxes\n",
    "Fin0=0.0021\n",
    "Ftran=0.009\n",
    "Ftranbone=Ftran\n",
    "\n",
    "#Output Fluxes\n",
    "Fout=0.00007\n",
    "\n",
    "\n",
    "#Run model where the output fluxes are linked to the concentration of Pb in the blood\n",
    "for i in t:\n",
    "    if i==0:\n",
    "        MPbblood[i-1]=MPbblood[0]\n",
    "        MPbbone[i-1]=MPbbone[0]\n",
    "    if 104 <= i <= tmax:\n",
    "        Fin=0\n",
    "    else:\n",
    "        Fin=Fin0\n",
    "    MPbblood[i]=MPbblood[i-1]+Fin+(MPbbone[i-1])*Ftranbone-(MPbblood[i-1]/MPbblood[0])*Fout-(MPbblood[i-1])*Ftran\n",
    "    MPbbone[i]=MPbbone[i-1]+(MPbblood[i-1])*Ftran-(MPbbone[i-1])*Ftranbone\n",
    "    \n",
    "\n",
    "fig, axs = plt.subplots(nrows=2,ncols=2,figsize=(15, 10))\n",
    "axs[0,0].plot(dfA['Time'],dfA['Lead'],'x')\n",
    "axs[0,0].plot(t,MPbblood)\n",
    "axs[0,0].set_xlabel('Time (days)',fontsize=18)\n",
    "axs[0,0].tick_params(labelsize=15)\n",
    "\n",
    "axs[0,1].plot(t,MPbbone)\n",
    "\n",
    "#Runtime\n",
    "tmax=210\n",
    "\n",
    "#Time Series\n",
    "t=list(range(tmax))\n",
    "\n",
    "#Masses\n",
    "MPbblood=np.zeros(tmax)\n",
    "MPbbone=np.zeros(tmax)\n",
    "\n",
    "MPbblood[0]=0.001\n",
    "MPbbone[0]=0\n",
    "\n",
    "\n",
    "\n",
    "#Run model where the output fluxes are linked to the concentration of Pb in the blood\n",
    "for i in t:\n",
    "    if i==0:\n",
    "        MPbblood[i-1]=MPbblood[0]\n",
    "        MPbbone[i-1]=MPbbone[0]\n",
    "    if 124 <= i <= tmax:\n",
    "        Fin=0\n",
    "    else:\n",
    "        Fin=Fin0\n",
    "    MPbblood[i]=MPbblood[i-1]+Fin+(MPbbone[i-1])*Ftranbone-(MPbblood[i-1]/MPbblood[0])*Fout-(MPbblood[i-1])*Ftran\n",
    "    MPbbone[i]=MPbbone[i-1]+(MPbblood[i-1])*Ftran-(MPbbone[i-1])*Ftranbone\n",
    "    \n",
    "\n",
    "axs[1,0].plot(dfB['Time'],dfB['Lead'],'x')\n",
    "axs[1,0].plot(t,MPbblood)\n",
    "axs[1,0].set_xlabel('Time (days)',fontsize=18)\n",
    "axs[1,0].tick_params(labelsize=15)\n",
    "\n",
    "axs[1,1].plot(t,MPbbone)"
   ]
  },
  {
   "cell_type": "code",
   "execution_count": 8,
   "id": "af066aab-13ee-4426-9218-3b54dd206cf2",
   "metadata": {},
   "outputs": [
    {
     "data": {
      "application/vnd.jupyter.widget-view+json": {
       "model_id": "7ec0850333c746efb7b7faefaef25653",
       "version_major": 2,
       "version_minor": 0
      },
      "text/plain": [
       "Canvas(toolbar=Toolbar(toolitems=[('Home', 'Reset original view', 'home', 'home'), ('Back', 'Back to previous …"
      ]
     },
     "metadata": {},
     "output_type": "display_data"
    },
    {
     "data": {
      "application/vnd.jupyter.widget-view+json": {
       "model_id": "1e66a16a8b764044b105ec17c839ef4c",
       "version_major": 2,
       "version_minor": 0
      },
      "text/plain": [
       "interactive(children=(FloatSlider(value=0.002, description='Fin0', max=0.005, step=0.0001), FloatSlider(value=…"
      ]
     },
     "metadata": {},
     "output_type": "display_data"
    },
    {
     "data": {
      "text/plain": [
       "(0.0, 0.15)"
      ]
     },
     "execution_count": 8,
     "metadata": {},
     "output_type": "execute_result"
    }
   ],
   "source": [
    "def initialise1D():\n",
    "    fig, ax = plt.subplots(figsize=(9,6))\n",
    "    line, = ax.plot(np.zeros_like(MPbblood))\n",
    "    return fig, ax, line\n",
    "\n",
    "# Set Variables\n",
    "\n",
    "#Runtime\n",
    "tmax=400\n",
    "\n",
    "#Time Series\n",
    "t=list(range(tmax))\n",
    "\n",
    "\n",
    "#Masses\n",
    "MPbblood=np.zeros(tmax)\n",
    "MPbbone=np.zeros(tmax)\n",
    "MPbblood[0]=0.0001\n",
    "MPbbone[0]=0\n",
    "\n",
    "# #Input Fluxes\n",
    "# Fin0=0.0021\n",
    "# Ftran=0.009\n",
    "\n",
    "\n",
    "# #Output Fluxes\n",
    "# Fout=0.00007\n",
    "\n",
    "Fin0 = widgets.FloatSlider(value=0.002,\n",
    "    min=0,\n",
    "    max=0.005,\n",
    "    step=0.0001)\n",
    "Ftran = widgets.FloatSlider(value=0.009,\n",
    "    min=0.007,\n",
    "    max=0.02,\n",
    "    step=0.0001)\n",
    "Ftranbone = widgets.FloatSlider(value=0.009,\n",
    "    min=0.007,\n",
    "    max=0.05,\n",
    "    step=0.0001)\n",
    "Fout = widgets.FloatSlider(value=0.00007,\n",
    "    min=0,\n",
    "    max=0.001,\n",
    "    step=0.00001)\n",
    "\n",
    "def update_plot(Fin0,Ftran,Fout,Ftranbone):\n",
    "    #Run model where the output fluxes are linked to the concentration of Pb in the blood\n",
    "    MPbblood=np.zeros(tmax)\n",
    "    MPbbone=np.zeros(tmax)\n",
    "    MPbblood[0]=0.0001\n",
    "    MPbbone[0]=0\n",
    "    for i in t:\n",
    "        if i==0:\n",
    "            MPbblood[i-1]=MPbblood[0]\n",
    "            MPbbone[i-1]=MPbbone[0]\n",
    "        if 124 <= i <= tmax:\n",
    "            Fin=0\n",
    "        else:\n",
    "            Fin=Fin0\n",
    "        MPbblood[i]=MPbblood[i-1]+Fin+(MPbbone[i-1])*Ftran-(MPbblood[i-1]/MPbblood[0])*Fout-(MPbblood[i-1])*Ftranbone\n",
    "        MPbbone[i]=MPbbone[i-1]+(MPbblood[i-1])*Ftran-(MPbbone[i-1])*Ftranbone\n",
    "    \n",
    "    line.set_ydata(MPbblood)\n",
    "    fig.canvas.draw_idle() \n",
    "\n",
    "fig, ax, line = initialise1D()\n",
    "\n",
    "widgets.interact(update_plot,Fin0=Fin0,Ftran=Ftran,Fout=Fout,Ftranbone=Ftranbone)\n",
    "ax.plot(dfB['Time'],dfB['Lead'],'x')\n",
    "ax.set_ylim([0,0.15])"
   ]
  },
  {
   "cell_type": "code",
   "execution_count": null,
   "id": "8cacf1d3-80e3-401f-9739-8aff94c138ac",
   "metadata": {},
   "outputs": [],
   "source": []
  }
 ],
 "metadata": {
  "kernelspec": {
   "display_name": "Python 3",
   "language": "python",
   "name": "python3"
  },
  "language_info": {
   "codemirror_mode": {
    "name": "ipython",
    "version": 3
   },
   "file_extension": ".py",
   "mimetype": "text/x-python",
   "name": "python",
   "nbconvert_exporter": "python",
   "pygments_lexer": "ipython3",
   "version": "3.9.5"
  }
 },
 "nbformat": 4,
 "nbformat_minor": 5
}
